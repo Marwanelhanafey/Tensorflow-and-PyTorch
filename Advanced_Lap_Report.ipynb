{
  "nbformat": 4,
  "nbformat_minor": 0,
  "metadata": {
    "colab": {
      "provenance": [],
      "authorship_tag": "ABX9TyNQJ9QzXSZupzDg81+oC4Ti",
      "include_colab_link": true
    },
    "kernelspec": {
      "name": "python3",
      "display_name": "Python 3"
    },
    "language_info": {
      "name": "python"
    }
  },
  "cells": [
    {
      "cell_type": "markdown",
      "metadata": {
        "id": "view-in-github",
        "colab_type": "text"
      },
      "source": [
        "<a href=\"https://colab.research.google.com/github/Marwanelhanafey/Tensorflow-and-PyTorch/blob/main/Advanced_Lap_Report.ipynb\" target=\"_parent\"><img src=\"https://colab.research.google.com/assets/colab-badge.svg\" alt=\"Open In Colab\"/></a>"
      ]
    },
    {
      "cell_type": "markdown",
      "source": [
        "TensorFlow: Data Loading and Preprocessing"
      ],
      "metadata": {
        "id": "p1CT2r178HM1"
      }
    },
    {
      "cell_type": "code",
      "execution_count": 1,
      "metadata": {
        "id": "C3z4_dXhUIKj",
        "colab": {
          "base_uri": "https://localhost:8080/"
        },
        "outputId": "0dca2731-9fb6-4677-c3ff-f1935f05ec44"
      },
      "outputs": [
        {
          "output_type": "stream",
          "name": "stdout",
          "text": [
            "Downloading data from https://storage.googleapis.com/tensorflow/tf-keras-datasets/mnist.npz\n",
            "\u001b[1m11490434/11490434\u001b[0m \u001b[32m━━━━━━━━━━━━━━━━━━━━\u001b[0m\u001b[37m\u001b[0m \u001b[1m0s\u001b[0m 0us/step\n"
          ]
        }
      ],
      "source": [
        "import tensorflow as tf\n",
        "from tensorflow.keras.datasets import mnist\n",
        "from tensorflow.keras.utils import to_categorical\n",
        "\n",
        "# Load data\n",
        "(x_train, y_train), (x_test, y_test) = mnist.load_data()\n",
        "\n",
        "# Normalize input data\n",
        "x_train, x_test = x_train / 255.0, x_test / 255.0\n",
        "\n",
        "# One-hot encode labels\n",
        "y_train = to_categorical(y_train)\n",
        "y_test = to_categorical(y_test)\n"
      ]
    },
    {
      "cell_type": "markdown",
      "source": [
        "TensorFlow: Model Definition and Training"
      ],
      "metadata": {
        "id": "qURiGjiR8GTz"
      }
    },
    {
      "cell_type": "code",
      "source": [
        "model = tf.keras.Sequential([\n",
        "    tf.keras.layers.Input(shape=(28, 28)),\n",
        "    tf.keras.layers.Flatten(),\n",
        "    tf.keras.layers.Dense(64, activation='relu'),\n",
        "    tf.keras.layers.Dense(10, activation='softmax')\n",
        "])\n",
        "\n",
        "model.compile(optimizer='adam',\n",
        "              loss='categorical_crossentropy',\n",
        "              metrics=['accuracy'])\n"
      ],
      "metadata": {
        "id": "ifphuU5BUU0E"
      },
      "execution_count": 2,
      "outputs": []
    },
    {
      "cell_type": "markdown",
      "source": [
        "TensorFlow: Evaluation"
      ],
      "metadata": {
        "id": "PJIDJCmf8SkH"
      }
    },
    {
      "cell_type": "code",
      "source": [
        "import time\n",
        "\n",
        "start = time.time()\n",
        "model.fit(x_train, y_train, epochs=5, batch_size=64)\n",
        "end = time.time()\n",
        "\n",
        "print(f\"TensorFlow training time: {end - start:.2f} seconds\")\n"
      ],
      "metadata": {
        "colab": {
          "base_uri": "https://localhost:8080/"
        },
        "id": "3Zl-2BUhUU22",
        "outputId": "2fc57970-635b-453c-a665-11df29d1576f"
      },
      "execution_count": 3,
      "outputs": [
        {
          "output_type": "stream",
          "name": "stdout",
          "text": [
            "Epoch 1/5\n",
            "\u001b[1m938/938\u001b[0m \u001b[32m━━━━━━━━━━━━━━━━━━━━\u001b[0m\u001b[37m\u001b[0m \u001b[1m3s\u001b[0m 3ms/step - accuracy: 0.8323 - loss: 0.6025\n",
            "Epoch 2/5\n",
            "\u001b[1m938/938\u001b[0m \u001b[32m━━━━━━━━━━━━━━━━━━━━\u001b[0m\u001b[37m\u001b[0m \u001b[1m3s\u001b[0m 3ms/step - accuracy: 0.9460 - loss: 0.1855\n",
            "Epoch 3/5\n",
            "\u001b[1m938/938\u001b[0m \u001b[32m━━━━━━━━━━━━━━━━━━━━\u001b[0m\u001b[37m\u001b[0m \u001b[1m3s\u001b[0m 4ms/step - accuracy: 0.9602 - loss: 0.1384\n",
            "Epoch 4/5\n",
            "\u001b[1m938/938\u001b[0m \u001b[32m━━━━━━━━━━━━━━━━━━━━\u001b[0m\u001b[37m\u001b[0m \u001b[1m4s\u001b[0m 3ms/step - accuracy: 0.9692 - loss: 0.1043\n",
            "Epoch 5/5\n",
            "\u001b[1m938/938\u001b[0m \u001b[32m━━━━━━━━━━━━━━━━━━━━\u001b[0m\u001b[37m\u001b[0m \u001b[1m2s\u001b[0m 3ms/step - accuracy: 0.9736 - loss: 0.0891\n",
            "TensorFlow training time: 16.85 seconds\n"
          ]
        }
      ]
    },
    {
      "cell_type": "code",
      "source": [
        "# Evaluate on test set\n",
        "start = time.time()\n",
        "test_loss, test_accuracy = model.evaluate(x_test, y_test, verbose=0)\n",
        "end = time.time()\n",
        "\n",
        "print(f\"TensorFlow Test Accuracy: {test_accuracy * 100:.2f}%\")\n",
        "print(f\"TensorFlow Inference Time: {end - start:.2f} seconds\")\n"
      ],
      "metadata": {
        "colab": {
          "base_uri": "https://localhost:8080/"
        },
        "id": "p6Pt_zybaZWr",
        "outputId": "73dc7184-2f99-418e-b427-d6b5592afc4d"
      },
      "execution_count": 4,
      "outputs": [
        {
          "output_type": "stream",
          "name": "stdout",
          "text": [
            "TensorFlow Test Accuracy: 96.99%\n",
            "TensorFlow Inference Time: 1.55 seconds\n"
          ]
        }
      ]
    },
    {
      "cell_type": "markdown",
      "source": [
        "TensorFlow: Model Conversion to TFLite"
      ],
      "metadata": {
        "id": "Hi3ftIgE8UVE"
      }
    },
    {
      "cell_type": "code",
      "source": [
        "import tensorflow as tf\n",
        "import numpy as np\n",
        "import pathlib\n",
        "\n",
        "# ── 2. Convert to TensorFlow Lite ───────────────────────────────────────────────\n",
        "converter = tf.lite.TFLiteConverter.from_keras_model(model)\n",
        "converter.optimizations = [tf.lite.Optimize.DEFAULT]        # optional\n",
        "tflite_model = converter.convert()\n",
        "\n",
        "tflite_path = pathlib.Path(\"model.tflite\")\n",
        "tflite_path.write_bytes(tflite_model)\n",
        "print(f\"✓ Saved TFLite model → {tflite_path.resolve()}\")\n",
        "\n",
        "\n"
      ],
      "metadata": {
        "colab": {
          "base_uri": "https://localhost:8080/"
        },
        "id": "UcISTXjrgqXd",
        "outputId": "f9dcca66-70ed-4e93-cb19-6a7aab065a62"
      },
      "execution_count": 5,
      "outputs": [
        {
          "output_type": "stream",
          "name": "stdout",
          "text": [
            "Saved artifact at '/tmp/tmpgx3nmjqd'. The following endpoints are available:\n",
            "\n",
            "* Endpoint 'serve'\n",
            "  args_0 (POSITIONAL_ONLY): TensorSpec(shape=(None, 28, 28), dtype=tf.float32, name='keras_tensor')\n",
            "Output Type:\n",
            "  TensorSpec(shape=(None, 10), dtype=tf.float32, name=None)\n",
            "Captures:\n",
            "  138242407049040: TensorSpec(shape=(), dtype=tf.resource, name=None)\n",
            "  138242407050000: TensorSpec(shape=(), dtype=tf.resource, name=None)\n",
            "  138242407049424: TensorSpec(shape=(), dtype=tf.resource, name=None)\n",
            "  138242407049808: TensorSpec(shape=(), dtype=tf.resource, name=None)\n",
            "✓ Saved TFLite model → /content/model.tflite\n"
          ]
        }
      ]
    },
    {
      "cell_type": "markdown",
      "source": [
        "PyTorch: Data Loading and Preprocessing"
      ],
      "metadata": {
        "id": "pvOnioNg8VB7"
      }
    },
    {
      "cell_type": "code",
      "source": [
        "import torch\n",
        "from torchvision import datasets, transforms\n",
        "from torch.utils.data import DataLoader\n",
        "\n",
        "# Transform: normalize to [0,1]\n",
        "transform = transforms.ToTensor()\n",
        "\n",
        "# Load data\n",
        "train_dataset = datasets.MNIST(root='./data', train=True, download=True, transform=transform)\n",
        "test_dataset = datasets.MNIST(root='./data', train=False, download=True, transform=transform)\n",
        "\n",
        "train_loader = DataLoader(train_dataset, batch_size=64, shuffle=True)\n",
        "test_loader = DataLoader(test_dataset, batch_size=1000)\n",
        "\n"
      ],
      "metadata": {
        "id": "lBRDUy6NUU8x",
        "colab": {
          "base_uri": "https://localhost:8080/"
        },
        "outputId": "452fb821-835a-4885-d967-7cb9a84c8aa2"
      },
      "execution_count": 6,
      "outputs": [
        {
          "output_type": "stream",
          "name": "stderr",
          "text": [
            "100%|██████████| 9.91M/9.91M [00:00<00:00, 66.6MB/s]\n",
            "100%|██████████| 28.9k/28.9k [00:00<00:00, 26.1MB/s]\n",
            "100%|██████████| 1.65M/1.65M [00:00<00:00, 66.0MB/s]\n",
            "100%|██████████| 4.54k/4.54k [00:00<00:00, 4.74MB/s]\n"
          ]
        }
      ]
    },
    {
      "cell_type": "markdown",
      "source": [
        "PyTorch: Model Definition"
      ],
      "metadata": {
        "id": "12IXr19E8VzZ"
      }
    },
    {
      "cell_type": "code",
      "source": [
        "import torch.nn as nn\n",
        "import torch.nn.functional as F\n",
        "\n",
        "class Net(nn.Module):\n",
        "    def __init__(self):\n",
        "        super(Net, self).__init__()\n",
        "        self.fc1 = nn.Linear(28*28, 64)\n",
        "        self.fc2 = nn.Linear(64, 10)\n",
        "\n",
        "    def forward(self, x):\n",
        "        x = x.view(-1, 28*28)  # Flatten\n",
        "        x = F.relu(self.fc1(x))\n",
        "        return self.fc2(x)\n",
        "\n"
      ],
      "metadata": {
        "id": "7yeidLmPUU_g"
      },
      "execution_count": 7,
      "outputs": []
    },
    {
      "cell_type": "markdown",
      "source": [
        "PyTorch: Model Training"
      ],
      "metadata": {
        "id": "8yl4pweb8WZZ"
      }
    },
    {
      "cell_type": "code",
      "source": [
        "import torch.optim as optim\n",
        "import time\n",
        "\n",
        "device = torch.device(\"cuda\" if torch.cuda.is_available() else \"cpu\")\n",
        "model = Net().to(device)\n",
        "criterion = nn.CrossEntropyLoss()\n",
        "optimizer = optim.Adam(model.parameters(), lr=0.001)\n",
        "\n",
        "start = time.time()\n",
        "for epoch in range(5):\n",
        "    model.train()\n",
        "    running_loss = 0.0\n",
        "    correct = 0\n",
        "    total = 0\n",
        "\n",
        "    for data, target in train_loader:\n",
        "        data, target = data.to(device), target.to(device)\n",
        "        optimizer.zero_grad()\n",
        "        output = model(data)\n",
        "        loss = criterion(output, target)\n",
        "        loss.backward()\n",
        "        optimizer.step()\n",
        "\n",
        "        running_loss += loss.item() * data.size(0)  # sum up batch loss\n",
        "        _, predicted = output.max(1)\n",
        "        correct += predicted.eq(target).sum().item()\n",
        "        total += target.size(0)\n",
        "\n",
        "    epoch_loss = running_loss / total\n",
        "    epoch_acc = 100. * correct / total\n",
        "\n",
        "    print(f\"Epoch {epoch+1}: Loss = {epoch_loss:.4f}, Accuracy = {epoch_acc:.2f}%\")\n",
        "\n",
        "end = time.time()\n",
        "print(f\"PyTorch training time: {end - start:.2f} seconds\")\n"
      ],
      "metadata": {
        "colab": {
          "base_uri": "https://localhost:8080/"
        },
        "id": "AiQPZOywUVCb",
        "outputId": "b69bbcd9-9a68-4450-ea32-c2b0af1d58dc"
      },
      "execution_count": 8,
      "outputs": [
        {
          "output_type": "stream",
          "name": "stdout",
          "text": [
            "Epoch 1: Loss = 0.3946, Accuracy = 89.53%\n",
            "Epoch 2: Loss = 0.2016, Accuracy = 94.20%\n",
            "Epoch 3: Loss = 0.1488, Accuracy = 95.75%\n",
            "Epoch 4: Loss = 0.1187, Accuracy = 96.56%\n",
            "Epoch 5: Loss = 0.0983, Accuracy = 97.09%\n",
            "PyTorch training time: 46.29 seconds\n"
          ]
        }
      ]
    },
    {
      "cell_type": "markdown",
      "source": [
        "PyTorch: Evaluation"
      ],
      "metadata": {
        "id": "CYn-7at58XCZ"
      }
    },
    {
      "cell_type": "code",
      "source": [
        "model.eval()  # Set model to evaluation mode\n",
        "correct = 0\n",
        "total = 0\n",
        "inference_start = time.time()\n",
        "\n",
        "with torch.no_grad():\n",
        "    for data, target in test_loader:\n",
        "        data, target = data.to(device), target.to(device)\n",
        "        outputs = model(data)\n",
        "        _, predicted = torch.max(outputs, 1)\n",
        "        total += target.size(0)\n",
        "        correct += (predicted == target).sum().item()\n",
        "\n",
        "inference_end = time.time()\n",
        "accuracy = correct / total * 100\n",
        "\n",
        "print(f\"PyTorch Test Accuracy: {accuracy:.2f}%\")\n",
        "print(f\"PyTorch Inference Time: {inference_end - inference_start:.2f} seconds\")\n"
      ],
      "metadata": {
        "colab": {
          "base_uri": "https://localhost:8080/"
        },
        "id": "sBUWJ27qUVFN",
        "outputId": "ec384460-c9b8-43e4-9a8c-dd9fe4d4ed9d"
      },
      "execution_count": 9,
      "outputs": [
        {
          "output_type": "stream",
          "name": "stdout",
          "text": [
            "PyTorch Test Accuracy: 96.90%\n",
            "PyTorch Inference Time: 1.16 seconds\n"
          ]
        }
      ]
    },
    {
      "cell_type": "code",
      "source": [
        "# Install ONNX\n",
        "!pip install onnx"
      ],
      "metadata": {
        "colab": {
          "base_uri": "https://localhost:8080/"
        },
        "id": "pQzVGjMDUVIK",
        "outputId": "e06eaa56-cfce-4cff-823b-3106a480baf3"
      },
      "execution_count": 10,
      "outputs": [
        {
          "output_type": "stream",
          "name": "stdout",
          "text": [
            "Collecting onnx\n",
            "  Downloading onnx-1.18.0-cp311-cp311-manylinux_2_17_x86_64.manylinux2014_x86_64.whl.metadata (6.9 kB)\n",
            "Requirement already satisfied: numpy>=1.22 in /usr/local/lib/python3.11/dist-packages (from onnx) (2.0.2)\n",
            "Requirement already satisfied: protobuf>=4.25.1 in /usr/local/lib/python3.11/dist-packages (from onnx) (5.29.5)\n",
            "Requirement already satisfied: typing_extensions>=4.7.1 in /usr/local/lib/python3.11/dist-packages (from onnx) (4.14.0)\n",
            "Downloading onnx-1.18.0-cp311-cp311-manylinux_2_17_x86_64.manylinux2014_x86_64.whl (17.6 MB)\n",
            "\u001b[2K   \u001b[90m━━━━━━━━━━━━━━━━━━━━━━━━━━━━━━━━━━━━━━━━\u001b[0m \u001b[32m17.6/17.6 MB\u001b[0m \u001b[31m88.8 MB/s\u001b[0m eta \u001b[36m0:00:00\u001b[0m\n",
            "\u001b[?25hInstalling collected packages: onnx\n",
            "Successfully installed onnx-1.18.0\n"
          ]
        }
      ]
    },
    {
      "cell_type": "code",
      "source": [
        "dummy_input = torch.randn(1, 784)\n",
        "torch.onnx.export(model, dummy_input, \"model.onnx\",\n",
        "                  input_names=[\"input\"], output_names=[\"output\"])"
      ],
      "metadata": {
        "id": "DOdAUS2WlNeX"
      },
      "execution_count": 11,
      "outputs": []
    },
    {
      "cell_type": "markdown",
      "source": [
        "PyTorch: Model Conversion to ONNX"
      ],
      "metadata": {
        "id": "UF4VRNrb8a2G"
      }
    },
    {
      "cell_type": "code",
      "source": [
        "import torch\n",
        "\n",
        "model.eval()\n",
        "\n",
        "# ── 2. Prepare dummy input (batch_size=1, 784 features)\n",
        "dummy_input = torch.randn(1, 784)   # adjust if your net expects a different shape\n",
        "\n",
        "# ── 3. Export to ONNX\n",
        "torch.onnx.export(\n",
        "    model,                    # model to export\n",
        "    dummy_input,              # example input\n",
        "    \"model.onnx\",             # file name\n",
        "    input_names  = [\"input\"],\n",
        "    output_names = [\"output\"],\n",
        "    opset_version=14,         # good default; change only if needed\n",
        "    do_constant_folding=True  # folds batch‑norm & constants for speed\n",
        ")\n",
        "\n"
      ],
      "metadata": {
        "id": "S_v1nv5JniIP"
      },
      "execution_count": 12,
      "outputs": []
    },
    {
      "cell_type": "markdown",
      "source": [
        "Plotting results and outputs"
      ],
      "metadata": {
        "id": "b2p-VEUA8bqQ"
      }
    },
    {
      "cell_type": "code",
      "source": [
        "import matplotlib.pyplot as plt\n",
        "\n",
        "# Example data\n",
        "epochs = [1, 2, 3, 4, 5]\n",
        "tf_acc = [83.74, 94.71, 96.06, 96.81, 97.44]\n",
        "torch_acc = [89.38, 94.40, 95.82, 96.61, 97.17]\n",
        "\n",
        "plt.figure(figsize=(8, 5))\n",
        "plt.plot(epochs, tf_acc, marker='o', label=\"TensorFlow\")\n",
        "plt.plot(epochs, torch_acc, marker='s', label=\"PyTorch\")\n",
        "plt.title(\"Training Accuracy per Epoch\")\n",
        "plt.xlabel(\"Epoch\")\n",
        "plt.ylabel(\"Accuracy (%)\")\n",
        "plt.legend()\n",
        "plt.grid(True)\n",
        "plt.tight_layout()\n",
        "plt.savefig(\"training_accuracy.png\")  # This saves the file in Colab's working directory\n",
        "plt.show()"
      ],
      "metadata": {
        "colab": {
          "base_uri": "https://localhost:8080/",
          "height": 507
        },
        "id": "ddVKS18W7Ngx",
        "outputId": "229f001c-3997-488a-c902-31da63ab3cc5"
      },
      "execution_count": 13,
      "outputs": [
        {
          "output_type": "display_data",
          "data": {
            "text/plain": [
              "<Figure size 800x500 with 1 Axes>"
            ],
            "image/png": "[encoded data removed]"
          },
          "metadata": {}
        }
      ]
    }
  ]
}